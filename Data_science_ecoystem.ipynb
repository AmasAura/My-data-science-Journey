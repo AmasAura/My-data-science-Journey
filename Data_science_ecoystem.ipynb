{
 "cells": [
  {
   "cell_type": "markdown",
   "id": "4918b89b-4779-4719-a519-fcd7389ff095",
   "metadata": {},
   "source": [
    "# Data Science Tools and Ecosystem"
   ]
  },
  {
   "cell_type": "markdown",
   "id": "2ace5467-f3df-43d6-a8b6-9f611fc35282",
   "metadata": {},
   "source": [
    "## Introduction\n",
    "##### In this notebook,Data Science Tools and Ecosystem are summarized"
   ]
  },
  {
   "cell_type": "markdown",
   "id": "e7fa5fa0-7cbb-4c8c-a696-9abf1c17507d",
   "metadata": {},
   "source": [
    "## Objectives\n",
    "- List data science languages\n",
    "- List data science libraries\n",
    "- Create a table with data science tools\n",
    "- arithmetic expression in python\n",
    "- convert minutes to hours"
   ]
  },
  {
   "cell_type": "markdown",
   "id": "624c1601-65a6-480e-9e66-dd55e2affcba",
   "metadata": {},
   "source": [
    "## Data Science languages\n",
    "some of the popular languages data scientist use are:\n",
    "- Python\n",
    "- R\n",
    "- SQL"
   ]
  },
  {
   "cell_type": "markdown",
   "id": "e045d2c4-2fe5-4145-b983-3555fd148d3c",
   "metadata": {},
   "source": [
    "## Data Science Libraries\n",
    "some of the data science libraries are:\n",
    "- pandas\n",
    "- numpy\n",
    "- seaborn\n",
    "- ggplot"
   ]
  },
  {
   "cell_type": "markdown",
   "id": "0409075b-d278-4f94-a911-a8f594cb4a3c",
   "metadata": {},
   "source": [
    "## Table with data science tools\n",
    "| Data Science Tools       |\r\n",
    "|--------------------------|\r\n",
    "| Jupyter Notebooks         |\r\n",
    "| RStudio                   |\r\n",
    "| Apache Zeppelin           |\r\n"
   ]
  },
  {
   "cell_type": "markdown",
   "id": "ad991d60-88aa-4f45-a355-805f83e84067",
   "metadata": {},
   "source": [
    "### Below are a few examples of evaluating arithmetic expressions in python"
   ]
  },
  {
   "cell_type": "code",
   "execution_count": 1,
   "id": "131ea52a-6708-410d-a25a-fd764a0f4fc4",
   "metadata": {},
   "outputs": [
    {
     "data": {
      "text/plain": [
       "400"
      ]
     },
     "execution_count": 1,
     "metadata": {},
     "output_type": "execute_result"
    }
   ],
   "source": [
    "20*20"
   ]
  },
  {
   "cell_type": "code",
   "execution_count": 3,
   "id": "fbc0edeb-b7bf-45e6-85a2-630e7bef80a0",
   "metadata": {},
   "outputs": [
    {
     "data": {
      "text/plain": [
       "17"
      ]
     },
     "execution_count": 3,
     "metadata": {},
     "output_type": "execute_result"
    }
   ],
   "source": [
    "# this is a simple arithmetic expression to explin the operation\n",
    "(3*4)+5"
   ]
  },
  {
   "cell_type": "code",
   "execution_count": 4,
   "id": "9a2766f7-3eb5-457d-ac13-2bbfff1bc40f",
   "metadata": {},
   "outputs": [
    {
     "data": {
      "text/plain": [
       "3.3333333333333335"
      ]
     },
     "execution_count": 4,
     "metadata": {},
     "output_type": "execute_result"
    }
   ],
   "source": [
    "# This will convert 200 minutes to hours by dividing by 60\n",
    "minutes = 200\n",
    "hours = minutes / 60\n",
    "hours"
   ]
  },
  {
   "cell_type": "markdown",
   "id": "74c2bf5f-d7e3-4039-9c3c-59c6d5f3b029",
   "metadata": {},
   "source": [
    "## Author\n",
    "Favour Amarachi Alor"
   ]
  },
  {
   "cell_type": "code",
   "execution_count": null,
   "id": "fb0d7429-0d01-4553-ba38-b7020b425ddd",
   "metadata": {},
   "outputs": [],
   "source": []
  }
 ],
 "metadata": {
  "kernelspec": {
   "display_name": "Python 3 (ipykernel)",
   "language": "python",
   "name": "python3"
  },
  "language_info": {
   "codemirror_mode": {
    "name": "ipython",
    "version": 3
   },
   "file_extension": ".py",
   "mimetype": "text/x-python",
   "name": "python",
   "nbconvert_exporter": "python",
   "pygments_lexer": "ipython3",
   "version": "3.11.7"
  }
 },
 "nbformat": 4,
 "nbformat_minor": 5
}

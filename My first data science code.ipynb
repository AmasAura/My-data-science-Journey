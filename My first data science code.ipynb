{
 "cells": [
  {
   "cell_type": "code",
   "execution_count": 6,
   "id": "1070ee6d-cf4d-4eec-8821-c6a2594d58d5",
   "metadata": {},
   "outputs": [
    {
     "name": "stdout",
     "output_type": "stream",
     "text": [
      "Amara like wahala too much\n"
     ]
    }
   ],
   "source": [
    "print('Amara like wahala too much')"
   ]
  },
  {
   "cell_type": "code",
   "execution_count": 2,
   "id": "64749a27",
   "metadata": {},
   "outputs": [
    {
     "name": "stdout",
     "output_type": "stream",
     "text": [
      "hello world\n"
     ]
    }
   ],
   "source": [
    "print('hello world')"
   ]
  },
  {
   "cell_type": "code",
   "execution_count": 4,
   "id": "3ac81682",
   "metadata": {},
   "outputs": [
    {
     "name": "stdout",
     "output_type": "stream",
     "text": [
      "This class is not interesting but i go rough am any how wey e be \n"
     ]
    }
   ],
   "source": [
    "A=('This class is not interesting ')\n",
    "B=('but i go rough am any how wey e be ')\n",
    "print(A+B)"
   ]
  },
  {
   "cell_type": "code",
   "execution_count": 8,
   "id": "bc8665ba",
   "metadata": {},
   "outputs": [
    {
     "data": {
      "text/plain": [
       "'webfala'"
      ]
     },
     "execution_count": 8,
     "metadata": {},
     "output_type": "execute_result"
    }
   ],
   "source": [
    "Name = 'webfala'\n",
    "Name"
   ]
  },
  {
   "cell_type": "markdown",
   "id": "9dd8353d",
   "metadata": {},
   "source": [
    "# hello\n",
    "- Point 1\n",
    "- point 2"
   ]
  },
  {
   "cell_type": "code",
   "execution_count": 9,
   "id": "5a96c4d1",
   "metadata": {},
   "outputs": [
    {
     "name": "stdout",
     "output_type": "stream",
     "text": [
      "data science\n"
     ]
    }
   ],
   "source": [
    "print('data science')"
   ]
  },
  {
   "cell_type": "markdown",
   "id": "40f43b22",
   "metadata": {},
   "source": []
  },
  {
   "cell_type": "markdown",
   "id": "ffafd768",
   "metadata": {},
   "source": [
    "# hello\n"
   ]
  },
  {
   "cell_type": "markdown",
   "metadata": {},
   "source": []
  },
  {
   "cell_type": "code",
   "execution_count": null,
   "id": "98312bf2",
   "metadata": {},
   "outputs": [],
   "source": []
  }
 ],
 "metadata": {
  "kernelspec": {
   "display_name": "Python 3 (ipykernel)",
   "language": "python",
   "name": "python3"
  },
  "language_info": {
   "codemirror_mode": {
    "name": "ipython",
    "version": 3
   },
   "file_extension": ".py",
   "mimetype": "text/x-python",
   "name": "python",
   "nbconvert_exporter": "python",
   "pygments_lexer": "ipython3",
   "version": "3.11.7"
  }
 },
 "nbformat": 4,
 "nbformat_minor": 5
}
